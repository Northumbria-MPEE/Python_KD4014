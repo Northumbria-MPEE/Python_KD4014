{
 "cells": [
  {
   "cell_type": "markdown",
   "id": "669b3dbe-015b-4734-9ef7-7a1e254add78",
   "metadata": {},
   "source": [
    "# Libraries\n",
    "\n",
    "## Overview\n",
    "**Teaching**: 10 min\n",
    "**Exercises**: 30 min\n",
    "\n",
    "**Questions**\n",
    "- How can I use software that other people have written?\n",
    "- How can I find out what that software does?\n",
    "\n",
    "**Objectives**\n",
    "- Explain what software libraries are and why the programmers create them.\n",
    "- Write programs that import and use libraries from Python's standard library.\n",
    "- Find and read documentation for standard libraries interactively (in the interpreter) and online.\n",
    "\n",
    "## Most of the power of a programming language is in its libraries.\n",
    "Importing a library is like getting a piece of lab equipment out of a storage locker and setting it up on the bench. Libraries provide additional functionality to the basic Python package, much like a new piece of equipment adds functionality to a lab space. Just like in the lab, importing too many libraries can sometimes complicate and slow down your programs - so we only import what we need for each program.\n",
    "\n",
    "- A _library_ is a collection of files (called _modules_) that contains functions for use by other functions.\n",
    "    - May also contain data values (_e.g._, numerical constants) and other things.\n",
    "    - Library's contents are supposed to be related, but there's no way to enforce that.\n",
    "- The Python [standard library](https://docs.python.org/3/library/) is an extensive suite of modules that comes iwth Python itself.}~\n",
    "- Many additional libraries are available from [PyPI](https://pypi.org/) (the Python Package Index)\n",
    "- We will see later how to write new libraries.\n",
    "\n",
    "## Libraries and modules\n",
    "A library is a collection of modules, but the terms are often used interchangably, especially since many libraries only consist of a single module, so don't worry if you mix them.\n",
    "\n",
    "## A program must import a library module before using it.\n",
    "\n",
    "- Use `import` to load a library into a program's memory.\n",
    "- We can then refer to things from the module as `module_name.thing_name`. For example, using `math`, one of the modules in the standard library:"
   ]
  },
  {
   "cell_type": "code",
   "execution_count": null,
   "id": "242d2714-f008-4a87-ad62-06175e5f80ba",
   "metadata": {},
   "outputs": [],
   "source": []
  },
  {
   "cell_type": "markdown",
   "id": "c8366b6e-b809-4df8-ae91-ed44b0a8fed2",
   "metadata": {},
   "source": [
    "- You hve to refer to each item with the module's name. For example, `math.cos(pi)` won't work: the reference to `pi` doesn't somehow \"inherit\" the function's reference to `math`.\n",
    "\n",
    "This [dotted notation](https://lucydot.github.io/python_novice/reference/#dotted-notation) is used everywhere in Python: the thing that appears before the dot contains the thing that appears after.\n",
    "\n",
    "As an example, John Smith is the John that belongs to the Smith family. We could use the dot notation to write his name `smith.john`, just as `loadtxt` is a function that belongs to the `numpy` library.\n",
    "\n",
    "## Use `help` to learn about the contents of a library module.\n",
    "\n",
    "- This works just like help for a function."
   ]
  },
  {
   "cell_type": "code",
   "execution_count": null,
   "id": "debd0e50-649c-4134-b29f-c2680530005c",
   "metadata": {},
   "outputs": [],
   "source": []
  },
  {
   "cell_type": "markdown",
   "id": "9bc5bd08-a257-47f4-9059-acd61b4fadb4",
   "metadata": {},
   "source": [
    "## Import specific items from a library module to shorten programs.\n",
    "\n",
    "- Use `from ... import ...` to load only specific items from a library module.\n",
    "- Then refer to them directly without library name as prefix."
   ]
  },
  {
   "cell_type": "code",
   "execution_count": null,
   "id": "28a6c3a2-e860-48c1-8d09-2dba898242c6",
   "metadata": {},
   "outputs": [],
   "source": []
  },
  {
   "cell_type": "markdown",
   "id": "94f7381b-b3d3-46d3-9b07-b116a62b0101",
   "metadata": {},
   "source": [
    "## Create an alias for a library module when importing it to shorten programs.\n",
    "\n",
    "- Use `import ... as ...` to give a library a short _alias_ while importing it.\n",
    "- Then refer to items in the library using that shortened name."
   ]
  },
  {
   "cell_type": "code",
   "execution_count": null,
   "id": "e962b216-fb9f-4d4e-8670-a895ad2e01a2",
   "metadata": {},
   "outputs": [],
   "source": []
  },
  {
   "cell_type": "markdown",
   "id": "6d1563e8-0fe2-412e-be7a-626a14dd5839",
   "metadata": {},
   "source": [
    "- Commonly used for libararies that are frequently used or have long names.\n",
    "    - _e.g._, `matplotlib` plotting library is often aliased as `mpl`.\n",
    "- But can make programs harder to understand, since the readers must learn your program's aliases."
   ]
  },
  {
   "cell_type": "code",
   "execution_count": null,
   "id": "b6c02cf1-f0a7-4ad7-88a3-6e2f95557386",
   "metadata": {},
   "outputs": [],
   "source": []
  },
  {
   "cell_type": "code",
   "execution_count": null,
   "id": "95d75b49-3fd3-4c4b-8b91-5d02b568ab5b",
   "metadata": {},
   "outputs": [],
   "source": []
  },
  {
   "cell_type": "code",
   "execution_count": null,
   "id": "3fdba2c2-1408-4851-b77a-16644e9f40d6",
   "metadata": {},
   "outputs": [],
   "source": []
  },
  {
   "cell_type": "markdown",
   "id": "f73a71ac-69ba-4df5-85c6-79510ed3704c",
   "metadata": {},
   "source": [
    "## Key Points\n",
    "\n",
    "- Most of the power of a programming language is in its libraries.\n",
    "- A program must import a library module in order to use it.\n",
    "- Use `help` to learn about the contents of a library module.\n",
    "- Import specific items from a library to shorten programs.\n",
    "- Create an alias for a library when importing it to shorten programs."
   ]
  },
  {
   "cell_type": "code",
   "execution_count": null,
   "id": "46fb92a5-ef4f-41d8-88f5-f358cdea8429",
   "metadata": {},
   "outputs": [],
   "source": []
  }
 ],
 "metadata": {
  "kernelspec": {
   "display_name": "Python 3 (ipykernel)",
   "language": "python",
   "name": "python3"
  },
  "language_info": {
   "codemirror_mode": {
    "name": "ipython",
    "version": 3
   },
   "file_extension": ".py",
   "mimetype": "text/x-python",
   "name": "python",
   "nbconvert_exporter": "python",
   "pygments_lexer": "ipython3",
   "version": "3.11.6"
  }
 },
 "nbformat": 4,
 "nbformat_minor": 5
}
