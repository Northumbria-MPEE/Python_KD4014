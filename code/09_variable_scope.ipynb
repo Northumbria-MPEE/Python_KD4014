{
 "cells": [
  {
   "cell_type": "markdown",
   "id": "a97443fb-fa77-4c8d-87d8-cef3bd461b4e",
   "metadata": {},
   "source": [
    "# Variable Scope\n",
    "\n",
    "## Overview\n",
    "**Teaching**: 10 min \\\n",
    "**Exercises**: 15 min\n",
    "\n",
    "**Questions**\n",
    "- How do function calls actually work?\n",
    "- How can I determine where errors occured?\n",
    "\n",
    "**Objectives**\n",
    "- Identify local and global variables.\n",
    "- Identify parameters as local variables.\n",
    "- Read a traceback and determine the file, function, and line number on which the error occured, the type of error, and the error message.\n",
    "\n",
    "## The scope of a variable is the part of a program that can \"see\" the variable.\n",
    "- There are only so many sensible names for the variables.\n",
    "- People using functions shouldn't have to worry about what variable names the author of the function used.\n",
    "- People writing functions shouldn't have to worry about what variable names the function's caller uses.\n",
    "- The part of a program in which a variable is visible is called its _scope_."
   ]
  },
  {
   "cell_type": "code",
   "execution_count": null,
   "id": "40b2d47f-7f10-4fc6-b827-164ccc1ae6a4",
   "metadata": {},
   "outputs": [],
   "source": []
  },
  {
   "cell_type": "markdown",
   "id": "ab0a3936-3399-4b6f-aecf-f7aafe968182",
   "metadata": {},
   "source": [
    "- `pressure` is a _global variable_.\n",
    "    - Defined outside any particular function.\n",
    "    - Visible everywhere.\n",
    "- `t` and `temperature` are _local variables_ in `adjust`.\n",
    "    - Defined in the function.\n",
    "    - Not visible in the main program.\n",
    "    - Remember: a function parameter is a variable that is automatically assigned a value when the function is called."
   ]
  },
  {
   "cell_type": "code",
   "execution_count": null,
   "id": "699f27c6-ac14-46b4-9a54-a7c07d09fba9",
   "metadata": {},
   "outputs": [],
   "source": []
  },
  {
   "cell_type": "code",
   "execution_count": null,
   "id": "e0a5ad5d-95b9-489e-8a20-b6b73b20ad21",
   "metadata": {},
   "outputs": [],
   "source": []
  },
  {
   "cell_type": "code",
   "execution_count": null,
   "id": "b2b6f88f-42a0-4358-b23a-bad135c13654",
   "metadata": {},
   "outputs": [],
   "source": []
  },
  {
   "cell_type": "markdown",
   "id": "97b96ef5-7f01-4453-93c8-e7b25c413b19",
   "metadata": {},
   "source": [
    "## Key Points\n",
    "- The scope of a variable is the part of a program that can \"see\" that variable."
   ]
  }
 ],
 "metadata": {
  "kernelspec": {
   "display_name": "Python 3 (ipykernel)",
   "language": "python",
   "name": "python3"
  },
  "language_info": {
   "codemirror_mode": {
    "name": "ipython",
    "version": 3
   },
   "file_extension": ".py",
   "mimetype": "text/x-python",
   "name": "python",
   "nbconvert_exporter": "python",
   "pygments_lexer": "ipython3",
   "version": "3.11.6"
  }
 },
 "nbformat": 4,
 "nbformat_minor": 5
}
