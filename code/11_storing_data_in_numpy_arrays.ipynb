{
 "cells": [
  {
   "cell_type": "markdown",
   "id": "1c46f040-d560-4420-93d4-70527c219727",
   "metadata": {},
   "source": [
    "# Storing Data in Numpy Arrays\n",
    "\n",
    "## Overview\n",
    "**Teaching**: 20 min \\\n",
    "**Exercises**: 25 min\n",
    "\n",
    "**Questions**\n",
    "- What is a `numpy` array and when is it useful?\n",
    "- How can I import and clean data in Python?\n",
    "\n",
    "**Objectives**\n",
    "- Read tabular data from a file into a progran using `numpy`\n",
    "- Describe the key features and use-cases of a Numpy n-dimensional array\n",
    "- Clean data for easier file parsing\n",
    "- Save data to file\n",
    "- Create `numpy` arrays\n",
    "- Create an automatic counter within a `for` loop\n",
    "- Iterate through 1d and 2d `numpy` arrays\n",
    "\n",
    "## Use the `numpy` library to work with numerical data in Python\n",
    "\n",
    "In this tutorial we will use `numpy` to read in experimental data. In order to load this data, we need to access ([import](https://lucydot.github.io/python_novice/reference/#import) in Python terminology) a library called [`numpy`](). In general you should use this library if you want to do fancy things with numbers, especially if you have matrices or arrays. We can import `numpy` using:"
   ]
  },
  {
   "cell_type": "code",
   "execution_count": null,
   "id": "936096da-09a7-440f-a53a-a87739133d02",
   "metadata": {},
   "outputs": [],
   "source": []
  },
  {
   "cell_type": "markdown",
   "id": "b589e95c-99d0-4f6e-aaec-f428976d8412",
   "metadata": {},
   "source": [
    "## `numpy` or `pandas`\n",
    "Another common Python package for working with 2-dimensional tabular data is `pandas`. If you have heterogeneous data - columns with different data-types (strings and floats for example) - Pandas might be a good choice. If you are applying mathematical operations to multi-dimensional arrays, `numpy` is a good choice. `numpy` typically consumes less memory than `pandas`, but this only becomes noticable for very large arrays. For this relatively small 2-dimensional table of floats, either will work well.\n",
    "\n",
    "## Scientists dislike typing\n",
    "We will always use the syntax `import numpy` to import `numpy`. However, in order to save typing, it is [often suggested]() to make a shortcut like so: `import numpy as np`. If you ever see Python code online using a `numpy` function with `np` (for example, `np.loadtxt(...)`), its because they've used this shortcut. When working with other people, it is important to agree on a convention of how common libraries are imported.\n",
    "\n",
    "## The `loadtxt` function is used to read in csv data\n",
    "To load the data file we can use the expression `numpy.loadtxt(...)`. This is a [function call](https://lucydot.github.io/python_novice/reference/#function-call) that asks Python to run the [function](https://lucydot.github.io/python_novice/reference/#function) `loadtxt` which belongs to the `numpy` library."
   ]
  },
  {
   "cell_type": "code",
   "execution_count": null,
   "id": "09f6da4b-b5e6-4240-af9b-ff914e16883e",
   "metadata": {},
   "outputs": [],
   "source": []
  },
  {
   "cell_type": "markdown",
   "id": "85f0b83c-c1c1-43a7-8345-efde321378d2",
   "metadata": {},
   "source": [
    "Since we haven't told the notebook to do anything else wiht the functions output, the notebook displays it. In this case, that output is the data we jsut loaded. By default, only a few rows and columns are shown (with `...` to omit elements when displaying big arrays). Also note thatm to save space, Python displays numbers as `1.` instead of `1.0` when there's nothing after the decimal point.\n",
    "\n",
    "`numpy.loadtxt` has three [arguments](https://lucydot.github.io/python_novice/reference/#argument): the name of the file we want to read, the delimiter which separates data values in teh file and the bumber of rows to skip when reading the file. The first row contains column names, and so we ask `numpy` to skip this.\n",
    "\n",
    "## What is the meaning of this data?\n",
    "This data we have read in is transmittance data from a UV-Vis experiment. When light interacts with a medium some of it will be transmitted, reflected or absorbed. Transmittance is the intensity of the transmitted radiation leaving the medium, normalised by the intensity of the radiation entering the medium. As such it is usually expressed as a percentage. The rows contain the data for each wavelength, and the columns contain the data for different materials.\n",
    "\n",
    "## Built-in python functions can be used to read file headings\n",
    "To read in teh column headings we can use Python:"
   ]
  },
  {
   "cell_type": "code",
   "execution_count": null,
   "id": "1ef64250-6587-4a56-92b7-2826cfe7f3e6",
   "metadata": {},
   "outputs": [],
   "source": []
  },
  {
   "cell_type": "markdown",
   "id": "a1f97e2e-a98e-4b82-aacb-14fdba4735cb",
   "metadata": {},
   "source": [
    "Note that in the code below we are _not_ using the `numpy` library - just built-in Python functions. There are some rogue unicode characters that are a relic from the excel file that originally held this data. To remove these characters we can specify the `encoding` keywork - an internet search of `ufeff` suggested this solution. The internet search bar is a useful friend when programming!"
   ]
  },
  {
   "cell_type": "code",
   "execution_count": null,
   "id": "fc061893-dba2-40c6-8ccb-c43155f565c2",
   "metadata": {},
   "outputs": [],
   "source": []
  },
  {
   "cell_type": "markdown",
   "id": "03a3b8b0-189f-4548-b1f5-4b94b5bf7d25",
   "metadata": {},
   "source": [
    "We can not see that the first heading corresponds to Wavelength, the secon to ITO transmittence, the third to CdS transmittance and so on. Note that the `\\n` denotes a newline character - it is not unicode.\n",
    "\n",
    "## To save data to memory we can assign it to a variable\n",
    "Note that our call to `numpy.loadtxt` read our file but didn't save the data in memory. To do that, we need to assign the array to a variable. Just as we can assign a single value to a variable, we can also assign an array of values to a variable using the same syntax. Let's re-run `numpy.loadtxt` and save the returned data:"
   ]
  },
  {
   "cell_type": "code",
   "execution_count": null,
   "id": "f7c7d592-0e9e-4d09-93e7-ed6ab616019e",
   "metadata": {},
   "outputs": [],
   "source": []
  },
  {
   "cell_type": "markdown",
   "id": "f5a7a40c-5277-4449-a586-3cfb60064308",
   "metadata": {},
   "source": [
    "This statment doesn't produce any output because we've assigned the output to the variable `data`. If we want to check that the data have been loaded, we can `print` the variable's value:"
   ]
  },
  {
   "cell_type": "code",
   "execution_count": null,
   "id": "529cbc1f-fc8b-4b8f-9fd4-d3a910ea6ba1",
   "metadata": {},
   "outputs": [],
   "source": []
  },
  {
   "cell_type": "markdown",
   "id": "c6210287-eb86-406a-bf7d-b07866dcbdb6",
   "metadata": {},
   "source": [
    "## An array is a central data structe of the `numpy` library\n",
    "First, let's ask what [type](https://lucydot.github.io/python_novice/reference/#type) of thing `data` refers to:"
   ]
  },
  {
   "cell_type": "code",
   "execution_count": null,
   "id": "980a07aa-b804-43ef-b585-55eb4874a507",
   "metadata": {},
   "outputs": [],
   "source": []
  },
  {
   "cell_type": "markdown",
   "id": "feaee6e6-4c83-449f-908d-07d3d0a7247a",
   "metadata": {},
   "source": [
    "The output tells us that `data` currently refers to a n-dimensional array, the functionality for which is provided by the `numpy` library.\n",
    "\n",
    "An array is a central data structure of the `numpy` library with columns of potentially different types. An array is a grid of values that can be indexed in various ways. The elements are all of the same type, referred to as the array `dtype`.\n",
    "\n",
    "## Arrays vs lists\n",
    "You may wonder why we care about Numpy arrays, when we already have Python lists. A `numpy` array holds on a single type of data, whilst lists can hold elements of different types. This makes `numpy` more efficient in memory usage. It also makes it quicker to iterate through a `numpy` array and manipulate elements in the array. Arrays are more suited to mathematical tasks as the operations are element-by-element. For example, what happens when we multiply a list by a integer? Is this what we would expect to see when working with vectors?\n",
    "\n",
    "The `type` function tells us that a variable is a `numpy` array but won't tell you the type of thing inside the array. To find out the type of data contained in the `numpy` array we can `print` the `dtype` attribute."
   ]
  },
  {
   "cell_type": "code",
   "execution_count": null,
   "id": "8e5062d5-6c4d-44f5-be29-a1c8b7851c14",
   "metadata": {},
   "outputs": [],
   "source": []
  },
  {
   "cell_type": "markdown",
   "id": "a3d5cfb8-e190-4891-be5d-f215b2ebf205",
   "metadata": {},
   "source": [
    "This tells us that the `numpy` array's elements are [floating point numbers](https://lucydot.github.io/python_novice/reference/#floating-point%20number).\n",
    "\n",
    "## Extra information about an array are stored as attributes.\n",
    "When we created the variable `data` to store our absorption data, we didn't just create the array' we also created information about the array, called attributes. This extra information describes `data` in teh same way an adjective describes a noun.\n",
    "\n",
    "For example, `data.shape` is an attribute of `data` which describes the dimensions of `data`.\n",
    "\n",
    "## The `savetxt` function is used to write data to a file\n",
    "If we want to save a file with clean header data (without the unicode) we can use the `numpy.savetxt` function: "
   ]
  },
  {
   "cell_type": "code",
   "execution_count": null,
   "id": "d00101bf-f20a-48fc-bdb5-6d0f025266da",
   "metadata": {},
   "outputs": [],
   "source": []
  },
  {
   "cell_type": "markdown",
   "id": "845fbd01-9a8a-49d1-ba73-b92c30f2407d",
   "metadata": {},
   "source": [
    "Now when we read this in we do not nbeed to speicyf the unicode ending, as the unicode is no longer there!"
   ]
  },
  {
   "cell_type": "code",
   "execution_count": null,
   "id": "718b3c19-073b-481b-8ec8-699c76a45494",
   "metadata": {},
   "outputs": [],
   "source": []
  },
  {
   "cell_type": "markdown",
   "id": "b2bac5eb-1873-4e0a-8123-c3efbd0efd32",
   "metadata": {},
   "source": [
    "Note that Numpy has inserted a `%` at the start of the header line to indicate that it is a comment and should be ignored. `numpy` has also written the file without commas separating each data value. As a result, we can read in this cleaned data file with a single `numpy` argument:"
   ]
  },
  {
   "cell_type": "code",
   "execution_count": null,
   "id": "6c80a43a-4d96-4c34-b66f-421b620141c5",
   "metadata": {},
   "outputs": [],
   "source": []
  },
  {
   "cell_type": "markdown",
   "id": "69bb646c-b497-497d-aff3-fd8d7d6bc124",
   "metadata": {},
   "source": [
    "## Create an array for storing data yet-to-be-generated using `numpy.zeros`\n",
    "\n",
    "In the previous example we imported data from a file as a `numpy` array. However it may be that we want to create a `numpy` array which stores calculation data that is generated within the code itself. For example, we may want to calculate the velocity of a ball at 50 points in time between 0 and 10 seconds inclusive. First we create an empty Numpy array with the correct dimensions"
   ]
  },
  {
   "cell_type": "code",
   "execution_count": null,
   "id": "7e216986-060d-4a19-9e0b-90f866f13458",
   "metadata": {},
   "outputs": [],
   "source": []
  },
  {
   "cell_type": "markdown",
   "id": "c7b5de00-9e4d-4015-88d3-794c6606fb0d",
   "metadata": {},
   "source": [
    "## Use `numpy.linspace` to generate evenly spaced numbers over a given interval.\n",
    "To specify the times at which we take measurements of the ball speed we can use `numpy.linspace` function. This will generate an array with 50 elements, each of which is evenly spaced between 0 and 10 (inclusive)."
   ]
  },
  {
   "cell_type": "code",
   "execution_count": null,
   "id": "d3e8a9f3-fdb5-4392-84f3-5f0766786e09",
   "metadata": {},
   "outputs": [],
   "source": []
  },
  {
   "cell_type": "markdown",
   "id": "59f57b25-a910-42bb-94f9-119314f1a735",
   "metadata": {},
   "source": [
    "## The `enumerate` function allows us to have an automatic counter within a `for` loop\n",
    "Enumerate is a Python built-in function. It allows us to have an automatic counter within a `for` loop. The best way to understand `enumerate` is to see it in action."
   ]
  },
  {
   "cell_type": "code",
   "execution_count": null,
   "id": "b4bb65b8-3eff-40d7-adc8-1433a14c805d",
   "metadata": {},
   "outputs": [],
   "source": []
  },
  {
   "cell_type": "markdown",
   "id": "e4431972-ed02-48ed-8f2e-12b9dcc48965",
   "metadata": {},
   "source": [
    "We can use `enumerate` to index the velocity array as we iterate through the `for` loop."
   ]
  },
  {
   "cell_type": "code",
   "execution_count": null,
   "id": "d6441bdf-29ce-4da1-8e72-3669f45a1f05",
   "metadata": {},
   "outputs": [],
   "source": []
  },
  {
   "cell_type": "markdown",
   "id": "f1373267-d774-48e5-a112-36d0b0c3ae48",
   "metadata": {},
   "source": [
    "Finally, we can use `numpy.around` to round the calculated velocities to 2 decimal places."
   ]
  },
  {
   "cell_type": "code",
   "execution_count": null,
   "id": "442acfa7-1ea2-4b51-a69a-e18d70421865",
   "metadata": {},
   "outputs": [],
   "source": []
  },
  {
   "cell_type": "markdown",
   "id": "204aabb5-dfb3-4267-8821-4a33dd1742ad",
   "metadata": {},
   "source": [
    "Although this approach generates the correct velocity values, we can use `numpy` operations to write more readable code in fewer lines. This will be explored further in the following question."
   ]
  },
  {
   "cell_type": "code",
   "execution_count": null,
   "id": "4dabd60b-5f67-41ec-bb28-f07c4f095bd5",
   "metadata": {},
   "outputs": [],
   "source": []
  },
  {
   "cell_type": "code",
   "execution_count": null,
   "id": "8da8778f-bbad-468d-a34e-1100dc90d00a",
   "metadata": {},
   "outputs": [],
   "source": []
  },
  {
   "cell_type": "code",
   "execution_count": null,
   "id": "77e67310-18b0-43ae-a300-bc79c91a5423",
   "metadata": {},
   "outputs": [],
   "source": []
  },
  {
   "cell_type": "markdown",
   "id": "c2b70c69-7bb6-4ae2-9a86-bac57ab83015",
   "metadata": {},
   "source": [
    "## Key Points\n",
    "- Use the `numpy` library to work with numerical data in Python\n",
    "- The `loadtxt` function is used to read in .csv data\n",
    "- Built-in Python functions can be used to read file headings\n",
    "- To save the data to memory we can assign it to a variable\n",
    "- An array is a central data structure of the `numpy` library\n",
    "- Extra informatin about an array are stored as attributes\n",
    "- The `savetxt` function is used to write dsata to a file\n",
    "- `numpy.linspace` generates evenly spaced numbers over a given interval\n",
    "- The `enumerate` function allows us to have an automatic counter within a `for` loop"
   ]
  },
  {
   "cell_type": "code",
   "execution_count": null,
   "id": "ec44b931-c74d-4c3b-a667-2eabd6d4eafb",
   "metadata": {},
   "outputs": [],
   "source": []
  }
 ],
 "metadata": {
  "kernelspec": {
   "display_name": "Python 3 (ipykernel)",
   "language": "python",
   "name": "python3"
  },
  "language_info": {
   "codemirror_mode": {
    "name": "ipython",
    "version": 3
   },
   "file_extension": ".py",
   "mimetype": "text/x-python",
   "name": "python",
   "nbconvert_exporter": "python",
   "pygments_lexer": "ipython3",
   "version": "3.11.6"
  }
 },
 "nbformat": 4,
 "nbformat_minor": 5
}
