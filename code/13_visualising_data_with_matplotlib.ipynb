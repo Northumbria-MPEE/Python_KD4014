{
 "cells": [
  {
   "cell_type": "markdown",
   "id": "f488db80-93ac-409c-8e74-28e5486b1a7d",
   "metadata": {},
   "source": [
    "# Visualising Data with Matplotlib\n",
    "## Overview\n",
    "**Teaching**: 20 min \\\n",
    "**Exercises**: 30 min\n",
    "\n",
    "**Questions**\n",
    "- How can I plot my data?\n",
    "- How can I save my plot for publishing?\n",
    "\n",
    "**Objectives**\n",
    "- Plot simple graphs from data\n",
    "\n",
    "## Use the `pyplot` library from `matplotlib` for creating effective visualisations\n",
    "The mathematician Richard Hamming once said, “The purpose of computing is insight, not numbers,” and the best way to develop insight is often to visualize data. Visualization deserves an entire lecture of its own, but we can explore a few features of Python’s `matplotlib` library here. While there is no official plotting library, `matplotlib` is the **_de facto_** standard. Lets import it:"
   ]
  },
  {
   "cell_type": "code",
   "execution_count": 1,
   "id": "ca390b49-ebfa-4edb-b199-6e93cd93ea28",
   "metadata": {},
   "outputs": [],
   "source": [
    "import matplotlib.pyplot"
   ]
  },
  {
   "cell_type": "markdown",
   "id": "616d1eaa-6650-46ed-9d54-53cce76035b2",
   "metadata": {},
   "source": [
    "Everytime we use a function from this library - say the `plot` function we need to pre-pend it with the library name `matplotlib.pyplopt`. Typing `matplotlib.pyplot.plot` many times is quite repetative and can lead easily to typo-mistakes. Instead we can import the library wiht a shortened nickname:"
   ]
  },
  {
   "cell_type": "code",
   "execution_count": null,
   "id": "789a9e4f-bf8b-4041-9679-3a8f9c97dbff",
   "metadata": {},
   "outputs": [],
   "source": []
  },
  {
   "cell_type": "markdown",
   "id": "0dac1060-e3a0-46f6-8515-bdebca87a1c9",
   "metadata": {},
   "source": [
    "## Some IPython Magic\n",
    "If you’re using an IPython / Jupyter notebook, you’ll need to execute the following command in order for your matplotlib images to appear in the notebook when `show()` is called:"
   ]
  },
  {
   "cell_type": "code",
   "execution_count": null,
   "id": "2222a471-d6f8-4fd8-ae83-213be90692e4",
   "metadata": {},
   "outputs": [],
   "source": []
  },
  {
   "cell_type": "markdown",
   "id": "1b4c3aa5-ada3-42df-8484-37fa847a25fd",
   "metadata": {},
   "source": [
    "The `%` indicates an IPython magic function - a function that is only valid within the notebook environment. Note that you only have to execute this function once per notebook.\n",
    "\n",
    "First, as in earlier tutorials, let’s read-in the cleaned data and assign the wavelengths and transmittance data to variables:"
   ]
  },
  {
   "cell_type": "code",
   "execution_count": null,
   "id": "e97b84a6-4760-4a34-b4b0-ee6b843b8835",
   "metadata": {},
   "outputs": [],
   "source": []
  },
  {
   "cell_type": "markdown",
   "id": "00d8fa78-e692-4d19-ad61-7c9e6c96e728",
   "metadata": {},
   "source": [
    "## Basic plots can be generated quickly with matplotlib\n",
    "Let's take a look at the transmittance data for the ITO:"
   ]
  },
  {
   "cell_type": "code",
   "execution_count": null,
   "id": "e438f589-d71e-4e2d-821a-c68201353437",
   "metadata": {},
   "outputs": [],
   "source": []
  },
  {
   "cell_type": "markdown",
   "id": "3884ed1e-4054-4c81-84d6-d81b43c71011",
   "metadata": {},
   "source": [
    "Here we have asked `matplotlib.pyplot` (whihc we've shortened to `plt`) to create and display a line graph of the ITO transmittence values.\n",
    "\n",
    "At the moment the x-axis has no physical significance; it is an integer range. Instead we can ask `matplotlib.pyplot` to plot a line graph of transmittance vs wavelength. We can also add a labelled axes and a title."
   ]
  },
  {
   "cell_type": "code",
   "execution_count": null,
   "id": "701fda37-8d75-4721-be2d-6fb7b3a95ff2",
   "metadata": {},
   "outputs": [],
   "source": []
  },
  {
   "cell_type": "markdown",
   "id": "87be71d4-5bbb-4bf2-99bd-ac3db73fb1c4",
   "metadata": {},
   "source": [
    "We can easily extend this to plot multiple lines. We also each line and create a legend so we can differentiate between each material."
   ]
  },
  {
   "cell_type": "code",
   "execution_count": null,
   "id": "3b90c759-6f5c-400f-b318-2b335c04db2b",
   "metadata": {},
   "outputs": [],
   "source": []
  },
  {
   "cell_type": "markdown",
   "id": "117e3d6f-dfb7-4cea-a9f6-893b01545ebc",
   "metadata": {},
   "source": [
    "## To group similar plots we use a figure and subplots\n",
    "As an alternative to having multiple lines on a single plot, you can group multiple plots in a single figure using subplots. This script below uses a number of new commands. The function `matplotlib.pyplot.figure()` creates a space into which we will place all of our plots. The parameter `figsize` tells Python how big to make this space. Each subplot is placed into the figure using its `add_subplot`[method](https://lucydot.github.io/python_novice/reference/#method). The `add_subplot` method takes 3 parameters.  The first denotes how many total rows of subplots there are, the second parameter refers to the total number of subplot columns, and the final parameter denotes which subplot your variable is referencing (left-to-right, top-to-bottom). Each subplot is stored in a different variable (`axes1`, `axes2`, `axes3`, `axes4`). Once a subplot is created, the axes can be titled usin ghte `set_xlabel()` command (or `set_ylabel()`). Here are our four plots (one for each material) in a 2x2 arrangement:"
   ]
  },
  {
   "cell_type": "code",
   "execution_count": null,
   "id": "005ce0b9-4b5d-4d9a-b42c-7285589dee53",
   "metadata": {},
   "outputs": [],
   "source": []
  },
  {
   "cell_type": "markdown",
   "id": "e55fa2d1-7023-44da-8e2e-7a13dc2fefda",
   "metadata": {},
   "source": [
    "The [call](https://lucydot.github.io/python_novice/reference/#function-call) to `tight_layout` improves the formatting (sub-plot placement) of the figure. The [call](https://lucydot.github.io/python_novice/reference/#function-call) to `savefig` saves our figure to the file `group_transmittance.png`.\n",
    "\n",
    "## There are many ways to plot and customise plots using matplotlib\n",
    "We are only touching the surface of plotting with matplotlib. There are hundreds of different plots, and thousands of ways to customise your plot. A good starting point for exploring the options is by looking online: The [official matplotlib gallery](https://matplotlib.org/stable/gallery/) and the [Pythong graph gallery](https://python-graph-gallery.com/matplotlib/) have lots of code examples."
   ]
  },
  {
   "cell_type": "code",
   "execution_count": null,
   "id": "2f037f17-9c9e-4344-aabf-9dac0028b294",
   "metadata": {},
   "outputs": [],
   "source": []
  },
  {
   "cell_type": "code",
   "execution_count": null,
   "id": "0d867617-72c2-4416-ac6a-177a9ec279c5",
   "metadata": {},
   "outputs": [],
   "source": []
  },
  {
   "cell_type": "code",
   "execution_count": null,
   "id": "e033dae0-a4c0-452e-abab-3936c6caba97",
   "metadata": {},
   "outputs": [],
   "source": []
  },
  {
   "cell_type": "markdown",
   "id": "62fab62e-a600-4ea1-9da0-7bc41025d430",
   "metadata": {},
   "source": [
    "## Key Points\n",
    "- Use the `pyplot` library from `matplotlib` for creating simple visualisations\n",
    "- Basic plots can be generated quickly with matplotlib\n",
    "- To group similar plots we use a figure and subplots\n",
    "- There are many ways to plot and customise plots using matplotlib"
   ]
  },
  {
   "cell_type": "code",
   "execution_count": null,
   "id": "49a8dd80-e796-48d0-a024-cb819a3c6b2d",
   "metadata": {},
   "outputs": [],
   "source": []
  }
 ],
 "metadata": {
  "kernelspec": {
   "display_name": "Python 3 (ipykernel)",
   "language": "python",
   "name": "python3"
  },
  "language_info": {
   "codemirror_mode": {
    "name": "ipython",
    "version": 3
   },
   "file_extension": ".py",
   "mimetype": "text/x-python",
   "name": "python",
   "nbconvert_exporter": "python",
   "pygments_lexer": "ipython3",
   "version": "3.11.6"
  }
 },
 "nbformat": 4,
 "nbformat_minor": 5
}
