{
 "cells": [
  {
   "cell_type": "markdown",
   "id": "3df8aa2a-1627-4f6f-aa4f-5053f7fa54ae",
   "metadata": {},
   "source": [
    "# Writing Functions\n",
    "\n",
    "## Overview\n",
    "**Teaching**: 15 min \\\n",
    "**Exercises**: 60 min\n",
    "\n",
    "**Questions**\n",
    "- How can I create my own functions?\n",
    "\n",
    "**Objectives**\n",
    "- Explain and identify the difference between function definition and function call.\n",
    "- Write a function that takes a small, fixed number of argumetns and produces a single result.\n",
    "\n",
    "## Break programs down into functions to make them easier to understand.\n",
    "\n",
    "- Human beings can only keep a few items in working memory at a time.\n",
    "- Understand larger/more complicated ideas by understanding and combining pieces.\n",
    "    - Components in a machine.\n",
    "    - Lemmas when provign theorems.\n",
    "- Functions serve the same purpose in programs.\n",
    "    - _Encapsulate_ complexity so that we can treat it as a single thing.\n",
    "- Also enmable re-use.\n",
    "    - Write one time, use many times."
   ]
  },
  {
   "cell_type": "code",
   "execution_count": null,
   "id": "eab4bc51-0948-4ebf-b503-f98b45b2e52a",
   "metadata": {},
   "outputs": [],
   "source": []
  },
  {
   "cell_type": "markdown",
   "id": "79e11933-6a90-4094-be63-85f33143238f",
   "metadata": {},
   "source": [
    "## Define a function using `def` with a name, parameters, and a block of code.\n",
    "\n",
    "- Defining a function does not run it.\n",
    "    - Like assigning a value to a variable.\n",
    "- Must call the function to execute the code it contains."
   ]
  },
  {
   "cell_type": "code",
   "execution_count": null,
   "id": "969b77d5-8b3b-4ae2-9f04-a54d84a0976d",
   "metadata": {},
   "outputs": [],
   "source": []
  },
  {
   "cell_type": "markdown",
   "id": "0d01d6a8-c227-4628-a8df-c81f57ac2468",
   "metadata": {},
   "source": [
    "## Arguments in call are matched to parameters in the defnition.#\n",
    "\n",
    "- Functions are most useful when they can operate on different data.\n",
    "- Specify _parameters_ when defining a function.\n",
    "    - these become variables when the function is executed.\n",
    "    - Are assigned the arguments in the call (_i.e._, the values passed to the function).\n",
    "    - If you don't name the arguments when using them in the call, the arguments will be matched to parameters in the order the parameters are defined in the function."
   ]
  },
  {
   "cell_type": "code",
   "execution_count": null,
   "id": "18a6568b-b0a9-40b1-8dfd-20cd988e7573",
   "metadata": {},
   "outputs": [],
   "source": []
  },
  {
   "cell_type": "markdown",
   "id": "430ef74d-4da1-43a1-8e87-a0b4327fcd57",
   "metadata": {},
   "source": [
    "Or, we can name the arguments when we call the function, whihc allows us to specify them in any order."
   ]
  },
  {
   "cell_type": "code",
   "execution_count": null,
   "id": "45a2e304-6c82-427a-ac6a-70bbc8cd37b6",
   "metadata": {},
   "outputs": [],
   "source": []
  },
  {
   "cell_type": "markdown",
   "id": "34ac3171-1a5c-40c6-bc5d-973e5faab83e",
   "metadata": {},
   "source": [
    "Via [Twitter](https://twitter.com/minisciencegirl/status/693486088963272705): `()` contains the ingredients for the function, while the body contains the recipe.\n",
    "\n",
    "## Functions may return a results to their caller using `return`.\n",
    "\n",
    "- Use `return ...` to give a value back to the caller.\n",
    "- May occur anywhere in the function.\n",
    "- But most functions are easier to understand if `return` occurs:\n",
    "    - At the start to handle special cases.\n",
    "    - At the very end, with the final result."
   ]
  },
  {
   "cell_type": "code",
   "execution_count": null,
   "id": "66a1bca4-e7e5-4ed7-b5f4-7e745c0b6ba5",
   "metadata": {},
   "outputs": [],
   "source": []
  },
  {
   "cell_type": "code",
   "execution_count": null,
   "id": "76ae5efb-66be-43da-ac0f-23eb13cd5c92",
   "metadata": {},
   "outputs": [],
   "source": []
  },
  {
   "cell_type": "markdown",
   "id": "27050718-2c03-4f1c-92bd-32104adfa3c6",
   "metadata": {},
   "source": [
    "- Remember: [every function returns something](https://lucydot.github.io/python_novice/04-built-in/)\n",
    "- A function that doesn't explicitly `return` a value automatically returns `None`."
   ]
  },
  {
   "cell_type": "code",
   "execution_count": null,
   "id": "c51470d6-12aa-4683-a723-cd40f9c10017",
   "metadata": {},
   "outputs": [],
   "source": []
  },
  {
   "cell_type": "code",
   "execution_count": null,
   "id": "5d281924-d7e5-4767-9bb1-352d52921ef0",
   "metadata": {},
   "outputs": [],
   "source": []
  },
  {
   "cell_type": "code",
   "execution_count": null,
   "id": "677846fa-c22b-4391-ab43-cb5677c54e87",
   "metadata": {},
   "outputs": [],
   "source": []
  },
  {
   "cell_type": "markdown",
   "id": "4a1043f4-e67a-45eb-ba0c-dabe66f57328",
   "metadata": {},
   "source": [
    "## Key Points\n",
    "\n",
    "- Break programs down into functions to make them easier to understand.\n",
    "- Define a function using `def` with a name, parameters, and a block of code.\n",
    "- Defining a function does not run it.\n",
    "- Arguments in call are matched to parameters in definition.\n",
    "- Functions may return a result to their caller using `return`."
   ]
  }
 ],
 "metadata": {
  "kernelspec": {
   "display_name": "Python 3 (ipykernel)",
   "language": "python",
   "name": "python3"
  },
  "language_info": {
   "codemirror_mode": {
    "name": "ipython",
    "version": 3
   },
   "file_extension": ".py",
   "mimetype": "text/x-python",
   "name": "python",
   "nbconvert_exporter": "python",
   "pygments_lexer": "ipython3",
   "version": "3.11.6"
  }
 },
 "nbformat": 4,
 "nbformat_minor": 5
}
