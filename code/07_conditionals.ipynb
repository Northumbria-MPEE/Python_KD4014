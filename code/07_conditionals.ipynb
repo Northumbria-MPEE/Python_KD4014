{
 "cells": [
  {
   "cell_type": "markdown",
   "id": "3f9b334f-797e-4fa3-9308-879eadbc49d1",
   "metadata": {},
   "source": [
    "# Conditionals\n",
    "\n",
    "## Overview\n",
    "**Teaching**: 20 min \\\n",
    "**Exercises**: 20 min\n",
    "\n",
    "**Questions**\n",
    "- How can programs do different things for different data?\n",
    "\n",
    "**Objectives**\n",
    "- Correctly write programs that use `if` and `else` statements and simple Boolean expressions (without logical operators).\n",
    "- Trace the execution of unnested conditionals and conditionals inside loops.\n",
    "\n",
    "## Use `if` statements to control whether or not a block of code is executed.\n",
    "\n",
    "- An `if` statement (more properly called a _conditional_ statement) controls whether some block of code is executed or not.\n",
    "- Structure is similar to a `for` statement\n",
    "    - First line opens with `if` and ends with a colon\n",
    "    - Body containing one or more statements is indented (usually by 4 spaces)"
   ]
  },
  {
   "cell_type": "code",
   "execution_count": null,
   "id": "39998841-58df-44a0-8180-fc7d55c37a38",
   "metadata": {},
   "outputs": [],
   "source": []
  },
  {
   "cell_type": "markdown",
   "id": "74d1eef2-76f5-4b11-9e87-7dbeac8fd79e",
   "metadata": {},
   "source": [
    "## Conditionals are often used inside loops.\n",
    "\n",
    "- Not much point using a conditional when we know the value (as above).\n",
    "- But useful when we have a collection to process."
   ]
  },
  {
   "cell_type": "code",
   "execution_count": null,
   "id": "1cb73835-52b5-4e73-be2c-6756915ece47",
   "metadata": {},
   "outputs": [],
   "source": []
  },
  {
   "cell_type": "markdown",
   "id": "5f1d5963-7141-43b6-93a2-8668510b9077",
   "metadata": {},
   "source": [
    "## Use `else` to execute a block of code when an `if` condition is _not_ true.\n",
    "\n",
    "- `else` can be used following an `if`\n",
    "- Allows us to specify an alternative to execute when the `if` _branch_ isn't taken."
   ]
  },
  {
   "cell_type": "code",
   "execution_count": null,
   "id": "fba2669c-308a-4a74-b026-b2b4d86000e8",
   "metadata": {},
   "outputs": [],
   "source": []
  },
  {
   "cell_type": "markdown",
   "id": "68ef255d-8aef-4ab5-88cd-dd0acc78fe5f",
   "metadata": {},
   "source": [
    "## Use `elif` to specify additional tests.\n",
    "\n",
    "- May want to provide several alternative choices, each with its own test.\n",
    "- Use `elif` (short for \"else if\") and a condition to specify these.\n",
    "    - Similar to `if`\n",
    "- Always must be associated with an `if`.\n",
    "- Must come before the `else` (which is the \"catch all\")."
   ]
  },
  {
   "cell_type": "code",
   "execution_count": null,
   "id": "cdc6436c-6435-4bf8-9ace-d24b5cbeab9e",
   "metadata": {},
   "outputs": [],
   "source": []
  },
  {
   "cell_type": "markdown",
   "id": "3c3dd605-c0c8-40ba-bad6-4d09c727f00d",
   "metadata": {},
   "source": [
    "## Conditionals are tested once, in order.\n",
    "\n",
    "- Python steps through the branches of the conditional in order, testing each in turn.\n",
    "- So ordering matters."
   ]
  },
  {
   "cell_type": "code",
   "execution_count": null,
   "id": "65dc0bb9-6c8a-4710-8c1e-8c33a4ef0fb5",
   "metadata": {},
   "outputs": [],
   "source": []
  },
  {
   "cell_type": "markdown",
   "id": "797dd774-7302-4ab9-b397-7797960cc74a",
   "metadata": {},
   "source": [
    "- Does _not_ automatically go back and re-evaluate if values change."
   ]
  },
  {
   "cell_type": "code",
   "execution_count": null,
   "id": "a7eb8a39-cb13-4520-be35-017f57cc70c8",
   "metadata": {},
   "outputs": [],
   "source": []
  },
  {
   "cell_type": "markdown",
   "id": "e52da385-367a-4a4c-afc7-90cdbe5c2651",
   "metadata": {},
   "source": [
    "- Often use conditionals in a loop to \"evolve\" the values of variables."
   ]
  },
  {
   "cell_type": "code",
   "execution_count": null,
   "id": "cdd717a9-4ebf-41c6-a952-ec1fbe59e7eb",
   "metadata": {},
   "outputs": [],
   "source": []
  },
  {
   "cell_type": "markdown",
   "id": "b82ea270-18fa-4d1c-aec9-33813e2c75af",
   "metadata": {},
   "source": [
    "## Create a table showing variables' values to trace a program's execution.\n",
    "\n",
    "| **i**        | 0    | .     | 1 | .    | 2 | .    | 3 | .    | 4 | .    |\n",
    "|--------------|------|-------|---|------|---|------|---|------|---|------|\n",
    "| **velocity** | 10.0 | 20.0  | . | 30.0 | . | 25.0 | . | 20.0 | . | 30.0 |\n",
    "\n",
    "- The program must have a `print` statement _outside_ the body fo the loop to show the final value of `velocity`, since its value is updated by the last iteration of the loop."
   ]
  },
  {
   "cell_type": "markdown",
   "id": "59bf0398-5968-4064-a5ca-1b040dcdf4f1",
   "metadata": {},
   "source": [
    "## Compoound Relations Using `and`, `or`, and Parentheses\n",
    "\n",
    "Often you want some combination of things to be true. You can combine relations within a conditional using `and` and `or`. Continuing the example above, suppose you have"
   ]
  },
  {
   "cell_type": "code",
   "execution_count": null,
   "id": "16d474f5-e7fd-4d77-ada0-3b23c149f070",
   "metadata": {},
   "outputs": [],
   "source": []
  },
  {
   "cell_type": "markdown",
   "id": "4653cf20-c5d4-4f94-88c3-3b3a32300269",
   "metadata": {},
   "source": [
    "Just like with arithmetic, you can and should use parentheses whenever there is possible ambiguity. A good general rule is to always use parentheses when mixing `and` and `or` in the same condition. That is, instead of:\n",
    "\n",
    "```\n",
    "if mass[i] <= 2 or mass[i] >= 5 and velocity[i] > 20:\n",
    "```\n",
    "\n",
    "write one of these:\n",
    "\n",
    "```\n",
    "if (mass[i] <= 2 or mass[i] >= 5) and velocity[i] > 20:\n",
    "```\n",
    "or\n",
    "```\n",
    "if mass[i] <= 2 or (mass[i] >= 5 and velocity[i] > 20):\n",
    "```"
   ]
  },
  {
   "cell_type": "code",
   "execution_count": null,
   "id": "e9baa371-ad0b-46e8-a611-2ecace2b6999",
   "metadata": {},
   "outputs": [],
   "source": []
  },
  {
   "cell_type": "code",
   "execution_count": null,
   "id": "37b69949-3d76-4738-bf07-cf02c17b88ee",
   "metadata": {},
   "outputs": [],
   "source": []
  },
  {
   "cell_type": "code",
   "execution_count": null,
   "id": "f240820c-fe9b-46e2-b60a-be13eb16fd01",
   "metadata": {},
   "outputs": [],
   "source": []
  },
  {
   "cell_type": "markdown",
   "id": "86275be5-3876-45f0-a61e-84fb4092e7a7",
   "metadata": {},
   "source": [
    "## Key Points\n",
    "- Use `if` statements to control whetehr or not a block of code is executed.\n",
    "- Conditionals are often used inside loops.\n",
    "- Use `else` to execute a block of code when an `if` condition is _not_ true.\n",
    "- Use `elif` to specify additional tests.\n",
    "- Conditionals are tested once, in order.\n",
    "- Create a table showing variables' values to trace a program's execution."
   ]
  },
  {
   "cell_type": "code",
   "execution_count": null,
   "id": "4777613d-95b7-441c-af0c-5cfc19144485",
   "metadata": {},
   "outputs": [],
   "source": []
  }
 ],
 "metadata": {
  "kernelspec": {
   "display_name": "Python 3 (ipykernel)",
   "language": "python",
   "name": "python3"
  },
  "language_info": {
   "codemirror_mode": {
    "name": "ipython",
    "version": 3
   },
   "file_extension": ".py",
   "mimetype": "text/x-python",
   "name": "python",
   "nbconvert_exporter": "python",
   "pygments_lexer": "ipython3",
   "version": "3.11.6"
  }
 },
 "nbformat": 4,
 "nbformat_minor": 5
}
