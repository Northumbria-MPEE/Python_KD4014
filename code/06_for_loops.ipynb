{
 "cells": [
  {
   "cell_type": "markdown",
   "id": "16c04f97-8d7f-43b5-81ff-ddfcbb1328bc",
   "metadata": {},
   "source": [
    "# For Loops\n",
    "\n",
    "## Overview\n",
    "**Teaching**: 10 min \\\n",
    "**Exercises**: 20 min\n",
    "\n",
    "**Questions**\n",
    "- How can I make a program do many things?\n",
    "\n",
    "**Objectives**\n",
    "- Explain what for loops are normally used for.\n",
    "- Trace the execution of a simple (unnested) loop and correctly state the values of variables in each iteration.\n",
    "- Wreite for loops that use the Accumulator pattern to aggregate values.\n",
    "\n",
    "## A `for` loop executes commands once for each value in a collection.\n",
    "\n",
    "- Doing calculations on the values in a list one by one is painful as working with `pressure_001`, `pressure_002`, _etc._\n",
    "- A _for loop_ tells Python to execute some statements once for each value in a list, a character string, or some other collection.\n",
    "- \"for each thing in this group, do these operations\""
   ]
  },
  {
   "cell_type": "code",
   "execution_count": null,
   "id": "d65dcbfd-b5a5-499b-8d53-bdcfc5fd64e2",
   "metadata": {},
   "outputs": [],
   "source": []
  },
  {
   "cell_type": "markdown",
   "id": "67615bb1-631d-4dba-975d-b203a436ce24",
   "metadata": {},
   "source": [
    "- This `for` loop is equivelent to:"
   ]
  },
  {
   "cell_type": "code",
   "execution_count": null,
   "id": "092bbb1b-ee23-482d-a423-e2c75f0448ad",
   "metadata": {},
   "outputs": [],
   "source": []
  },
  {
   "cell_type": "markdown",
   "id": "fcdd251e-f216-457c-9937-b72cdb91bd60",
   "metadata": {},
   "source": [
    "## The first line of the `for` loop must end with a colon, and the body must be indented.\n",
    "\n",
    "- The colon at the end of the first line signals the start of a _block_ of statements.\n",
    "- Python uses indentation rather than `{}` or `begin`/`end` to show _nesting_.\n",
    "    - Any consistent indentation is legal, but almost everyone uses four spaces."
   ]
  },
  {
   "cell_type": "code",
   "execution_count": null,
   "id": "ecc4a806-e056-446e-b560-4b40987336b9",
   "metadata": {},
   "outputs": [],
   "source": []
  },
  {
   "cell_type": "markdown",
   "id": "621b9186-772f-482b-a2da-f8b28e3f86fd",
   "metadata": {},
   "source": [
    "- Indentation is always meaningful in Python\n",
    "\n"
   ]
  },
  {
   "cell_type": "code",
   "execution_count": null,
   "id": "9a9590c3-fc18-42ba-8f7b-a0fce3d22ba9",
   "metadata": {},
   "outputs": [],
   "source": []
  },
  {
   "cell_type": "markdown",
   "id": "9336ffe0-ac46-463e-86fe-91b6f7e6e708",
   "metadata": {},
   "source": [
    "- This error can be fixed by removing the extra spaces at the beginning of the second line.\n",
    "\n",
    "## A `for` floop is made up of a collection, a loop variable, and a body.\n",
    "\n",
    "```\n",
    "for number in [2, 3, 5]:\n",
    "    print(number)\n",
    "```\n",
    "\n",
    "- The collection\n",
    "    - `[2, 3, 5]` is what the loop is being run on.\n",
    "- The body\n",
    "    - `print(number)` specifies what to do for each value in the collection.\n",
    "- The loop variable\n",
    "    - `number` is what changes for each _iteration_ of the loop.\n",
    "\n",
    "## Loop variables can be called anything.\n",
    "\n",
    "- As with all variables, loop variables are:\n",
    "    - Created on demand.\n",
    "    - Meaningless: their names can be anything at all"
   ]
  },
  {
   "cell_type": "code",
   "execution_count": null,
   "id": "0e07c919-6c38-4b07-86b9-67a4b1205101",
   "metadata": {},
   "outputs": [],
   "source": []
  },
  {
   "cell_type": "markdown",
   "id": "cde2c96c-9534-4477-af9e-1a5f57d7ebf0",
   "metadata": {},
   "source": [
    "## The body of a loop can conatin many statements.\n",
    "\n",
    "- But no loop should be more than a few lines long.\n",
    "- Hard for human beings to keep larger chunks of code in their mind."
   ]
  },
  {
   "cell_type": "code",
   "execution_count": null,
   "id": "5e82cf76-3e43-4d52-aab1-29929375fce6",
   "metadata": {},
   "outputs": [],
   "source": []
  },
  {
   "cell_type": "markdown",
   "id": "e9379359-ce1e-441e-9d72-304c5aff431e",
   "metadata": {},
   "source": [
    "## Use `range` to iterate over a sequence of numbers\n",
    "\n",
    "- The built-in function `range` produces a sequence of numbers.\n",
    "    - _Not_ a list: the numbers are produced on demand to make looping over large ranges more efficient.\n",
    "- `range(N)` is the numbers `0`...`N-1`\n",
    "    - Exactly the legal indicies of a list or character string of length `N`"
   ]
  },
  {
   "cell_type": "code",
   "execution_count": null,
   "id": "6ac93f72-a144-45b2-b4af-c6e4134cc01a",
   "metadata": {},
   "outputs": [],
   "source": []
  },
  {
   "cell_type": "code",
   "execution_count": null,
   "id": "ec7a07b3-0a3b-446c-b94c-f8b14eeebd3a",
   "metadata": {},
   "outputs": [],
   "source": []
  },
  {
   "cell_type": "markdown",
   "id": "52479b2b-68e4-4b60-a3c8-8c621d88c729",
   "metadata": {},
   "source": [
    "## The Accumulator pattern turns many values into one.\n",
    "\n",
    "- A common pattern in programs is to:\n",
    "    1. Initialize an _accumulator_ variable to `0`, the empty string, or the empty list.\n",
    "    2. Update the variable with values from a collection."
   ]
  },
  {
   "cell_type": "code",
   "execution_count": null,
   "id": "9db1bc99-8458-47e3-83ab-be13adbd5616",
   "metadata": {},
   "outputs": [],
   "source": []
  },
  {
   "cell_type": "markdown",
   "id": "3965142e-1f8d-41ad-b477-014099fb0ad8",
   "metadata": {},
   "source": [
    "- Read `total = total + (number+1)` as:\n",
    "    - Add `1` to the current value of the loop variable `number`.\n",
    "    - Add that to the current value of the accumulator variable `total`.\n",
    "    - Addisgn that to `total`, replacing the current value.\n",
    "\n",
    "- We ahve to add `number+1` because range produces `0`...`9` not `1`...`10`"
   ]
  },
  {
   "cell_type": "code",
   "execution_count": null,
   "id": "99634863-b778-4674-ab4d-7017e4320475",
   "metadata": {},
   "outputs": [],
   "source": []
  },
  {
   "cell_type": "code",
   "execution_count": null,
   "id": "406066d3-25ab-4ff8-b3c6-83e99edddf04",
   "metadata": {},
   "outputs": [],
   "source": []
  },
  {
   "cell_type": "code",
   "execution_count": null,
   "id": "2c873ced-845d-4c90-b0bb-93c63c0e5be5",
   "metadata": {},
   "outputs": [],
   "source": []
  },
  {
   "cell_type": "markdown",
   "id": "2126439d-efae-4abd-80a7-9fd3a89ff9aa",
   "metadata": {},
   "source": [
    "## Key Points\n",
    "\n",
    "- A `for` loop executes commands once for each value in a collection.\n",
    "- the first line of the `for` loop must end with a colon, and the body must be indented\n",
    "- Indentation is always meaningful in Python\n",
    "- A `for` loop is made up of a collection, koop variable, and a body.\n",
    "- Loop variables can be called anything(but it is trongly advised to have a meaningful name to the looping variable).\n",
    "- The body of a loop can contain many statements.\n",
    "- User `range` to iterate over a sequence of numbers.\n",
    "- The accumulator pattern turns many values into one.lues into one."
   ]
  }
 ],
 "metadata": {
  "kernelspec": {
   "display_name": "Python 3 (ipykernel)",
   "language": "python",
   "name": "python3"
  },
  "language_info": {
   "codemirror_mode": {
    "name": "ipython",
    "version": 3
   },
   "file_extension": ".py",
   "mimetype": "text/x-python",
   "name": "python",
   "nbconvert_exporter": "python",
   "pygments_lexer": "ipython3",
   "version": "3.11.6"
  }
 },
 "nbformat": 4,
 "nbformat_minor": 5
}
